{
  "cells": [
    {
      "cell_type": "markdown",
      "metadata": {
        "id": "view-in-github",
        "colab_type": "text"
      },
      "source": [
        "<a href=\"https://colab.research.google.com/github/Laib/Machine_Learning/blob/main/Unsupervised_learning_KMeans.ipynb\" target=\"_parent\"><img src=\"https://colab.research.google.com/assets/colab-badge.svg\" alt=\"Open In Colab\"/></a>"
      ]
    },
    {
      "cell_type": "markdown",
      "metadata": {
        "id": "kWPC0tuXH1wv"
      },
      "source": [
        "![alt text](https://www.cu-aflou.dz/img/logoUnivAflou.jpg \"Logo Title Text 1\")\n",
        "\n",
        "[University Center -Cherif Bouchoucha- Aflou](https://www.cu-aflou.dz)\n",
        "\n",
        "Institute of Sciences\n",
        "\n",
        "Department of Computer Science\n",
        "\n",
        "Machine learning\n",
        "\n",
        "Dr. SELLAM Abdellah"
      ]
    },
    {
      "cell_type": "markdown",
      "metadata": {
        "id": "15R8Oi4tH1wz"
      },
      "source": [
        "## Loading the Heart Disease Dataset\n",
        "The [Kaggle](https://www.kaggle.com/) version of the [Heart](https://www.kaggle.com/datasets/johnsmith88/heart-disease-dataset) database consists of **1025** patient record.\n",
        "\n",
        "Each record consists of **13** attributes (features) and a signle **label** (target) that indicates whether the patient has the heart disease.\n",
        "\n",
        "The dataset is in **CSV** (Comma Seperated Values) file format.\n",
        "\n",
        "### Exercise 1\n",
        "1. Download the dataset from [this link](https://www.kaggle.com/datasets/johnsmith88/heart-disease-dataset).\n",
        "2. Extract the downloaded zip file (archive.zip).\n",
        "3. Upload the file heart.csv to the virtual drive of your Google Colab runtitme.\n",
        "\n",
        "### Reading the heart.csv file\n",
        "In order to load the dataset, we need to read the contents of the **heart.csv** file and convert them into a matrix.\n",
        "\n",
        "This is a complicated task to perform from scratch. Fortunately, we have a python library to do this for us, it is the [pandas](https://pandas.pydata.org/) library.\n",
        "\n",
        "To read our **heart.csv** file using **pandas**:\n",
        "1. Import the **panda** library.\n",
        "2. Pass the **path** to the **csv** file as an argument to the **read_csv** method."
      ]
    },
    {
      "cell_type": "code",
      "execution_count": null,
      "metadata": {
        "id": "Qe8-70qfH1w0"
      },
      "outputs": [],
      "source": [
        "import pandas as pd\n",
        "\n",
        "df = pd.read_csv('heart.csv')"
      ]
    },
    {
      "cell_type": "markdown",
      "metadata": {
        "id": "KlIeZJ_tH1w1"
      },
      "source": [
        "The **read_csv** method return a data structure defined by **pandas** called a **DataFrame**.\n",
        "\n",
        "The returned data frame in the previous code cell is assigned to a variable called **df**.\n",
        "\n",
        "To display the first lines in dataset, we can use the method **head** of the **DataFrame** class."
      ]
    },
    {
      "cell_type": "code",
      "execution_count": null,
      "metadata": {
        "id": "-OoeuMtsH1w2",
        "outputId": "440ca1a3-2ed4-4634-952b-25d34c908eb4"
      },
      "outputs": [
        {
          "data": {
            "text/html": [
              "<div>\n",
              "<style scoped>\n",
              "    .dataframe tbody tr th:only-of-type {\n",
              "        vertical-align: middle;\n",
              "    }\n",
              "\n",
              "    .dataframe tbody tr th {\n",
              "        vertical-align: top;\n",
              "    }\n",
              "\n",
              "    .dataframe thead th {\n",
              "        text-align: right;\n",
              "    }\n",
              "</style>\n",
              "<table border=\"1\" class=\"dataframe\">\n",
              "  <thead>\n",
              "    <tr style=\"text-align: right;\">\n",
              "      <th></th>\n",
              "      <th>age</th>\n",
              "      <th>sex</th>\n",
              "      <th>cp</th>\n",
              "      <th>trestbps</th>\n",
              "      <th>chol</th>\n",
              "      <th>fbs</th>\n",
              "      <th>restecg</th>\n",
              "      <th>thalach</th>\n",
              "      <th>exang</th>\n",
              "      <th>oldpeak</th>\n",
              "      <th>slope</th>\n",
              "      <th>ca</th>\n",
              "      <th>thal</th>\n",
              "      <th>target</th>\n",
              "    </tr>\n",
              "  </thead>\n",
              "  <tbody>\n",
              "    <tr>\n",
              "      <th>0</th>\n",
              "      <td>52</td>\n",
              "      <td>1</td>\n",
              "      <td>0</td>\n",
              "      <td>125</td>\n",
              "      <td>212</td>\n",
              "      <td>0</td>\n",
              "      <td>1</td>\n",
              "      <td>168</td>\n",
              "      <td>0</td>\n",
              "      <td>1.0</td>\n",
              "      <td>2</td>\n",
              "      <td>2</td>\n",
              "      <td>3</td>\n",
              "      <td>0</td>\n",
              "    </tr>\n",
              "    <tr>\n",
              "      <th>1</th>\n",
              "      <td>53</td>\n",
              "      <td>1</td>\n",
              "      <td>0</td>\n",
              "      <td>140</td>\n",
              "      <td>203</td>\n",
              "      <td>1</td>\n",
              "      <td>0</td>\n",
              "      <td>155</td>\n",
              "      <td>1</td>\n",
              "      <td>3.1</td>\n",
              "      <td>0</td>\n",
              "      <td>0</td>\n",
              "      <td>3</td>\n",
              "      <td>0</td>\n",
              "    </tr>\n",
              "    <tr>\n",
              "      <th>2</th>\n",
              "      <td>70</td>\n",
              "      <td>1</td>\n",
              "      <td>0</td>\n",
              "      <td>145</td>\n",
              "      <td>174</td>\n",
              "      <td>0</td>\n",
              "      <td>1</td>\n",
              "      <td>125</td>\n",
              "      <td>1</td>\n",
              "      <td>2.6</td>\n",
              "      <td>0</td>\n",
              "      <td>0</td>\n",
              "      <td>3</td>\n",
              "      <td>0</td>\n",
              "    </tr>\n",
              "    <tr>\n",
              "      <th>3</th>\n",
              "      <td>61</td>\n",
              "      <td>1</td>\n",
              "      <td>0</td>\n",
              "      <td>148</td>\n",
              "      <td>203</td>\n",
              "      <td>0</td>\n",
              "      <td>1</td>\n",
              "      <td>161</td>\n",
              "      <td>0</td>\n",
              "      <td>0.0</td>\n",
              "      <td>2</td>\n",
              "      <td>1</td>\n",
              "      <td>3</td>\n",
              "      <td>0</td>\n",
              "    </tr>\n",
              "    <tr>\n",
              "      <th>4</th>\n",
              "      <td>62</td>\n",
              "      <td>0</td>\n",
              "      <td>0</td>\n",
              "      <td>138</td>\n",
              "      <td>294</td>\n",
              "      <td>1</td>\n",
              "      <td>1</td>\n",
              "      <td>106</td>\n",
              "      <td>0</td>\n",
              "      <td>1.9</td>\n",
              "      <td>1</td>\n",
              "      <td>3</td>\n",
              "      <td>2</td>\n",
              "      <td>0</td>\n",
              "    </tr>\n",
              "  </tbody>\n",
              "</table>\n",
              "</div>"
            ],
            "text/plain": [
              "   age  sex  cp  trestbps  chol  fbs  restecg  thalach  exang  oldpeak  slope  \\\n",
              "0   52    1   0       125   212    0        1      168      0      1.0      2   \n",
              "1   53    1   0       140   203    1        0      155      1      3.1      0   \n",
              "2   70    1   0       145   174    0        1      125      1      2.6      0   \n",
              "3   61    1   0       148   203    0        1      161      0      0.0      2   \n",
              "4   62    0   0       138   294    1        1      106      0      1.9      1   \n",
              "\n",
              "   ca  thal  target  \n",
              "0   2     3       0  \n",
              "1   0     3       0  \n",
              "2   0     3       0  \n",
              "3   1     3       0  \n",
              "4   3     2       0  "
            ]
          },
          "execution_count": 2,
          "metadata": {},
          "output_type": "execute_result"
        }
      ],
      "source": [
        "df.head()"
      ]
    },
    {
      "cell_type": "markdown",
      "metadata": {
        "id": "b6kfh5kiH1w3"
      },
      "source": [
        "We then have to transform the dataset to a matrix.\n",
        "\n",
        "Python has a matrix and n-dimensional array manupilation library called [numpy](https://numpy.org/).\n",
        "\n",
        "The **DataFrame** class has a method that converts its data into a **numpy** array and returns it, it is the **to_numpy** method."
      ]
    },
    {
      "cell_type": "code",
      "execution_count": null,
      "metadata": {
        "id": "9i2DmYD_H1w4"
      },
      "outputs": [],
      "source": [
        "data = df.to_numpy()"
      ]
    },
    {
      "cell_type": "markdown",
      "metadata": {
        "id": "Z-ewseysH1w4"
      },
      "source": [
        "The returned **numpy** array is assigned to a varaible called **data**.\n",
        "\n",
        "To display the size of array (matrix) we can **print** its **shape** attribute."
      ]
    },
    {
      "cell_type": "code",
      "execution_count": null,
      "metadata": {
        "id": "KcDkg3niH1w4",
        "outputId": "0fc86743-96ef-4a1f-ffc5-67dcf1bf91a3"
      },
      "outputs": [
        {
          "name": "stdout",
          "output_type": "stream",
          "text": [
            "(1025, 14)\n"
          ]
        }
      ],
      "source": [
        "print(data.shape)"
      ]
    },
    {
      "cell_type": "markdown",
      "metadata": {
        "id": "nxsKba6DH1w5"
      },
      "source": [
        "The **\\$14^{th}$ column** of the matrix is the **label** (target). Since we are doing **unsupervised learning**, we don't need the **label** feature.\n",
        "\n",
        "To remove the **label** column, we assign the first **13** column to variable **data**."
      ]
    },
    {
      "cell_type": "code",
      "execution_count": null,
      "metadata": {
        "id": "_lQhP01-H1w5",
        "outputId": "2b192ea9-0ccc-418f-9017-78ac2a84e2b4"
      },
      "outputs": [
        {
          "name": "stdout",
          "output_type": "stream",
          "text": [
            "(1025, 13)\n"
          ]
        }
      ],
      "source": [
        "data = data[:, :13]\n",
        "print(data.shape)"
      ]
    },
    {
      "cell_type": "markdown",
      "metadata": {
        "id": "bsXE08C3H1w5"
      },
      "source": [
        "## Applying K-Means clustering to the loaded dataset\n",
        "To apply the k-means clustering algorithm to the dataset:\n",
        "1. Create a k-means object from the python library [scikit-learn](https://scikit-learn.org/).\n",
        "2. Launch the clustering process using the **fit** method.\n",
        "3. Get the clusters of our dataset records using the **predict** method.\n",
        "\n",
        "### Creating a scikit-learn K-Means object\n",
        "To create a scikit-learn K-Means object:\n",
        "1. Load the KMeans class from the module **cluster** of the **scikit-learn** library. \n",
        "2. Use the **KMeans** class to create an instance:\n",
        "    a. Set the **init** argument to **random**.\n",
        "    b. Set the **n_clusters** argument to the desired number of cluster **K**."
      ]
    },
    {
      "cell_type": "code",
      "execution_count": null,
      "metadata": {
        "id": "wf0MccFaH1w6"
      },
      "outputs": [],
      "source": [
        "from sklearn.cluster import KMeans\n",
        "\n",
        "kmeans = KMeans(\n",
        "    init=\"random\",\n",
        "    n_clusters=2)"
      ]
    },
    {
      "cell_type": "markdown",
      "metadata": {
        "id": "B0_XqcyBH1w6"
      },
      "source": [
        "### Launching the K-Means clustering\n",
        "To start the K-Means clustering procedure, we use the **fit** method of the **kmeans** object on the **data** variable we prepared previously."
      ]
    },
    {
      "cell_type": "code",
      "execution_count": null,
      "metadata": {
        "id": "zDd-1jT5H1w6",
        "outputId": "d8d06f25-33a8-4a07-c607-3c16119573e4"
      },
      "outputs": [
        {
          "data": {
            "text/plain": [
              "KMeans(init='random', n_clusters=2)"
            ]
          },
          "execution_count": 7,
          "metadata": {},
          "output_type": "execute_result"
        }
      ],
      "source": [
        "kmeans.fit(data)"
      ]
    },
    {
      "cell_type": "markdown",
      "metadata": {
        "id": "CEuD6aqrH1w7"
      },
      "source": [
        "### Getting the clusters of our dataset\n",
        "To retrieve the clusters (labels) returned by the **kmeans** object, we use the **predict** method on the **data** variable."
      ]
    },
    {
      "cell_type": "code",
      "execution_count": null,
      "metadata": {
        "id": "MluKnCQHH1w7"
      },
      "outputs": [],
      "source": [
        "clusters = kmeans.predict(data)"
      ]
    },
    {
      "cell_type": "markdown",
      "metadata": {
        "id": "HBy3jhAbH1w7"
      },
      "source": [
        "## Understanding the returned Clusters\n",
        "\n",
        "Now that we have clustered our data, we have to analyze the discovered clusters.\n",
        "\n",
        "### Displaying cluster centers\n",
        "One way to understand the clusters is to check their centeroids. We can achieve this using the **scikit-learn KMeans** class by checking the **cluster_centers_** attribute."
      ]
    },
    {
      "cell_type": "code",
      "execution_count": null,
      "metadata": {
        "id": "UuZKt24sH1w8",
        "outputId": "89413a68-17f6-4c92-adee-7b519d025fb7"
      },
      "outputs": [
        {
          "data": {
            "text/plain": [
              "array([[5.68162162e+01, 5.91891892e-01, 7.89189189e-01, 1.34983784e+02,\n",
              "        2.99175676e+02, 1.43243243e-01, 4.45945946e-01, 1.45040541e+02,\n",
              "        4.10810811e-01, 1.20513514e+00, 1.35675676e+00, 8.72972973e-01,\n",
              "        2.41621622e+00],\n",
              "       [5.30885496e+01, 7.54198473e-01, 1.02900763e+00, 1.29706870e+02,\n",
              "        2.15961832e+02, 1.52671756e-01, 5.77099237e-01, 1.51415267e+02,\n",
              "        2.94656489e-01, 9.96030534e-01, 1.40152672e+00, 6.87022901e-01,\n",
              "        2.27175573e+00]])"
            ]
          },
          "execution_count": 9,
          "metadata": {},
          "output_type": "execute_result"
        }
      ],
      "source": [
        "kmeans.cluster_centers_"
      ]
    },
    {
      "cell_type": "markdown",
      "metadata": {
        "id": "5NfX4lDPH1w8"
      },
      "source": [
        "We can see that we obtained a matrix of **K** rows and **13** columns.\n",
        "\n",
        "The **K** rows correspond to the **K** cluster centers.\n",
        "\n",
        "The **13** columns correspond to the **13** features we have in our **data** matrix.\n",
        "\n",
        "However, this is not very clear, we can display the cluster centers more eleganntly by showing the names of the **features** for each cluster center separately.\n",
        "\n",
        "To achieve this we can use the **df** data frame of **pandas** we loaded earlier, it has an attribute called **columns** that has the names of the our **features**."
      ]
    },
    {
      "cell_type": "code",
      "execution_count": null,
      "metadata": {
        "id": "AmbPXH40H1w9",
        "outputId": "8f59cc46-7b0f-4887-d8fb-0bbd5c9792d5"
      },
      "outputs": [
        {
          "name": "stdout",
          "output_type": "stream",
          "text": [
            "Cluster #0\n",
            "\tage: 56.81621621621622\n",
            "\tsex: 0.5918918918918921\n",
            "\tcp: 0.7891891891891895\n",
            "\ttrestbps: 134.9837837837838\n",
            "\tchol: 299.1756756756757\n",
            "\tfbs: 0.14324324324324322\n",
            "\trestecg: 0.4459459459459461\n",
            "\tthalach: 145.04054054054055\n",
            "\texang: 0.41081081081081083\n",
            "\toldpeak: 1.2051351351351354\n",
            "\tslope: 1.3567567567567569\n",
            "\tca: 0.8729729729729732\n",
            "\tthal: 2.416216216216216\n",
            "Cluster #1\n",
            "\tage: 53.08854961832061\n",
            "\tsex: 0.7541984732824428\n",
            "\tcp: 1.0290076335877862\n",
            "\ttrestbps: 129.70687022900762\n",
            "\tchol: 215.9618320610687\n",
            "\tfbs: 0.1526717557251908\n",
            "\trestecg: 0.5770992366412214\n",
            "\tthalach: 151.41526717557252\n",
            "\texang: 0.2946564885496184\n",
            "\toldpeak: 0.9960305343511451\n",
            "\tslope: 1.401526717557252\n",
            "\tca: 0.6870229007633589\n",
            "\tthal: 2.2717557251908396\n"
          ]
        }
      ],
      "source": [
        "for c in range(kmeans.cluster_centers_.shape[0]):\n",
        "    print('Cluster #%d'%(c))\n",
        "    for i in range(data.shape[1]):\n",
        "        print('\\t%s:'%(df.columns[i]), kmeans.cluster_centers_[c][i])"
      ]
    },
    {
      "cell_type": "markdown",
      "metadata": {
        "id": "Avb2TRenH1w9"
      },
      "source": [
        "### Displaying values ranges in each cluster\n",
        "\n",
        "We can also write a function that displays the ranges of values in each cluster using the **numpy** library.\n",
        "\n",
        "First, we must use the **where** function of the **numpy** library to find the record that belong to a certain cluster.\n",
        "\n",
        "Then, we can use the **min** and **max** method on those records to retrieve the ranges of all features.\n",
        "\n",
        "Finally, we use **columns** attribute of the variable **df** to display the names of the attributes."
      ]
    },
    {
      "cell_type": "code",
      "execution_count": null,
      "metadata": {
        "id": "yMo5GLm9H1w-",
        "outputId": "7d60293d-8759-4a7a-bf17-ae8886c6f33c"
      },
      "outputs": [
        {
          "name": "stdout",
          "output_type": "stream",
          "text": [
            "Cluster #0\n",
            "\tage: 35..77\n",
            "\tsex: 0..1\n",
            "\tcp: 0..3\n",
            "\ttrestbps: 100..200\n",
            "\tchol: 258..564\n",
            "\tfbs: 0..1\n",
            "\trestecg: 0..2\n",
            "\tthalach: 88..195\n",
            "\texang: 0..1\n",
            "\toldpeak: 0..4.4\n",
            "\tslope: 0..2\n",
            "\tca: 0..3\n",
            "\tthal: 1..3\n",
            "Cluster #1\n",
            "\tage: 29..76\n",
            "\tsex: 0..1\n",
            "\tcp: 0..3\n",
            "\ttrestbps: 94..178\n",
            "\tchol: 126..260\n",
            "\tfbs: 0..1\n",
            "\trestecg: 0..2\n",
            "\tthalach: 71..202\n",
            "\texang: 0..1\n",
            "\toldpeak: 0..6.2\n",
            "\tslope: 0..2\n",
            "\tca: 0..4\n",
            "\tthal: 0..3\n"
          ]
        }
      ],
      "source": [
        "import numpy as np\n",
        "\n",
        "def cluster_summary(data, columns, clusters, cluster):\n",
        "    idxs = np.where(clusters==cluster)\n",
        "    rows = data[idxs]\n",
        "    print('Cluster #%d'%(c))\n",
        "    for i in range(data.shape[1]):\n",
        "        print('\\t%s: %g..%g'%(columns[i], rows[:, i].min(), rows[:, i].max()))\n",
        "\n",
        "for c in range(clusters.max() + 1):\n",
        "    cluster_summary(data, df.columns, clusters, c)"
      ]
    },
    {
      "cell_type": "markdown",
      "metadata": {
        "id": "8zsXkyH_H1w_"
      },
      "source": [
        "## Exercise 2\n",
        "Test the K-Means algorithm using different values of **K**"
      ]
    },
    {
      "cell_type": "markdown",
      "metadata": {
        "id": "LuFjcTCAH1w_"
      },
      "source": [
        "## Exercise 3\n",
        "Read the **scikit-learn** manual entry for [K-Means](https://scikit-learn.org/stable/modules/generated/sklearn.cluster.KMeans.html) and try"
      ]
    }
  ],
  "metadata": {
    "kernelspec": {
      "display_name": "Python 3",
      "language": "python",
      "name": "python3"
    },
    "language_info": {
      "codemirror_mode": {
        "name": "ipython",
        "version": 3
      },
      "file_extension": ".py",
      "mimetype": "text/x-python",
      "name": "python",
      "nbconvert_exporter": "python",
      "pygments_lexer": "ipython3",
      "version": "3.8.5"
    },
    "colab": {
      "provenance": [],
      "include_colab_link": true
    }
  },
  "nbformat": 4,
  "nbformat_minor": 0
}