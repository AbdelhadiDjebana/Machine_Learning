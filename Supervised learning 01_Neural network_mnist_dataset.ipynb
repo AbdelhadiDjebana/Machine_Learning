{
  "cells": [
    {
      "cell_type": "markdown",
      "source": [
        "**University Center -Cherif Bouchoucha- Aflou**\n",
        "\n",
        "**Institute of Sciences**\n",
        "\n",
        "**Department of Computer Science**\n",
        "\n",
        "**TP Machine learning**\n",
        "\n",
        "**Dr. Laib Lakhdar** \n"
      ],
      "metadata": {
        "id": "fCrh8-QbQ4Yc"
      }
    },
    {
      "cell_type": "markdown",
      "source": [
        "**Dataset (training_images,testing_images)**\n",
        "\n",
        "\n"
      ],
      "metadata": {
        "id": "EjIOKQbHPs_E"
      }
    },
    {
      "cell_type": "code",
      "execution_count": 35,
      "metadata": {
        "id": "WQsktpIiN2UV"
      },
      "outputs": [],
      "source": [
        "from keras.datasets import mnist\n",
        "(train_images, train_labels),(test_images, test_labels) = mnist.load_data()\n",
        "train_images = train_images.reshape((60000,28*28))\n",
        "train_images = train_images.astype(\"float32\")/255\n",
        "test_images = test_images.reshape((10000,28*28))\n",
        "test_images = test_images.astype(\"float32\")/255\n",
        "from keras.utils import to_categorical\n",
        "train_labels = to_categorical(train_labels)\n",
        "test_labels = to_categorical(test_labels)"
      ]
    },
    {
      "cell_type": "markdown",
      "source": [
        " **Creation of Model** "
      ],
      "metadata": {
        "id": "r4Q-E4LXPklo"
      }
    },
    {
      "cell_type": "code",
      "execution_count": 36,
      "metadata": {
        "id": "F3qPmenwN2Uh"
      },
      "outputs": [],
      "source": [
        "from keras import models\n",
        "from keras import layers\n",
        "model = models.Sequential()\n",
        "model.add(layers.Dense(512, activation = \"relu\", input_shape = (28*28, )))\n",
        "model.add(layers.Dense(10, activation = \"softmax\"))\n",
        "model.compile(optimizer= \"rmsprop\",\n",
        "             loss = \"categorical_crossentropy\",\n",
        "             metrics = [\"accuracy\"])"
      ]
    },
    {
      "cell_type": "markdown",
      "source": [
        " **Training of Model** "
      ],
      "metadata": {
        "id": "hB9ZKxU0QQX1"
      }
    },
    {
      "cell_type": "code",
      "execution_count": 37,
      "metadata": {
        "colab": {
          "base_uri": "https://localhost:8080/"
        },
        "id": "OJXKK1nHN2Uj",
        "outputId": "918f27f1-48dd-44a8-f5de-5234e218b8b3"
      },
      "outputs": [
        {
          "output_type": "stream",
          "name": "stdout",
          "text": [
            "Epoch 1/5\n",
            "469/469 [==============================] - 6s 11ms/step - loss: 0.2618 - accuracy: 0.9244\n",
            "Epoch 2/5\n",
            "469/469 [==============================] - 5s 10ms/step - loss: 0.1088 - accuracy: 0.9685\n",
            "Epoch 3/5\n",
            "469/469 [==============================] - 4s 9ms/step - loss: 0.0716 - accuracy: 0.9782\n",
            "Epoch 4/5\n",
            "469/469 [==============================] - 5s 11ms/step - loss: 0.0529 - accuracy: 0.9843\n",
            "Epoch 5/5\n",
            "469/469 [==============================] - 4s 9ms/step - loss: 0.0385 - accuracy: 0.9886\n"
          ]
        },
        {
          "output_type": "execute_result",
          "data": {
            "text/plain": [
              "<keras.callbacks.History at 0x7f5536c21c10>"
            ]
          },
          "metadata": {},
          "execution_count": 37
        }
      ],
      "source": [
        "model.fit(train_images,\n",
        "         train_labels,\n",
        "         epochs = 5,\n",
        "         batch_size = 128)"
      ]
    },
    {
      "cell_type": "markdown",
      "source": [
        " **Testing of Model** "
      ],
      "metadata": {
        "id": "-AVraw3ZQboG"
      }
    },
    {
      "cell_type": "code",
      "execution_count": 38,
      "metadata": {
        "colab": {
          "base_uri": "https://localhost:8080/"
        },
        "id": "rNaOrUn4N2Uj",
        "outputId": "14dd9de0-dc9f-4a56-db98-a0ae5cd948d0"
      },
      "outputs": [
        {
          "output_type": "stream",
          "name": "stdout",
          "text": [
            "313/313 [==============================] - 1s 3ms/step - loss: 0.0648 - accuracy: 0.9806\n",
            "test_loss :  0.06481874734163284 \n",
            "test_acc :  0.9805999994277954\n"
          ]
        }
      ],
      "source": [
        "test_loss, test_acc = model.evaluate(test_images, test_labels)\n",
        "print(\"test_loss : \", test_loss,\"\\ntest_acc : \", test_acc)"
      ]
    }
  ],
  "metadata": {
    "kernelspec": {
      "display_name": "tfgpu",
      "language": "python",
      "name": "tfgpu"
    },
    "language_info": {
      "codemirror_mode": {
        "name": "ipython",
        "version": 3
      },
      "file_extension": ".py",
      "mimetype": "text/x-python",
      "name": "python",
      "nbconvert_exporter": "python",
      "pygments_lexer": "ipython3",
      "version": "3.6.11"
    },
    "colab": {
      "provenance": []
    }
  },
  "nbformat": 4,
  "nbformat_minor": 0
}