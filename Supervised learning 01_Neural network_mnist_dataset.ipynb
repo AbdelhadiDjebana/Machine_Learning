{
  "cells": [
    {
      "cell_type": "markdown",
      "metadata": {
        "id": "view-in-github",
        "colab_type": "text"
      },
      "source": [
        "<a href=\"https://colab.research.google.com/github/Laib/Machine_Learning/blob/main/Supervised%20learning%2001_Neural%20network_mnist_dataset.ipynb\" target=\"_parent\"><img src=\"https://colab.research.google.com/assets/colab-badge.svg\" alt=\"Open In Colab\"/></a>"
      ]
    },
    {
      "cell_type": "markdown",
      "source": [
        "![alt text](https://www.cu-aflou.dz/img/logoUnivAflou.jpg \"Logo Title Text 1\")\n",
        "\n",
        "[University Center -Cherif Bouchoucha- Aflou](https://www.cu-aflou.dz)\n",
        "\n",
        "Institute of Sciences\n",
        "\n",
        "Department of Computer Science\n",
        "\n",
        "Machine learning\n",
        "\n",
        "Dr. Laib Lakhdar\n"
      ],
      "metadata": {
        "id": "fCrh8-QbQ4Yc"
      }
    },
    {
      "cell_type": "markdown",
      "source": [
        "## **Neural network**"
      ],
      "metadata": {
        "id": "aQBBc-uRCkTB"
      }
    },
    {
      "cell_type": "markdown",
      "source": [
        "**Dataset (training_images,testing_images)**\n",
        "\n",
        "\n"
      ],
      "metadata": {
        "id": "EjIOKQbHPs_E"
      }
    },
    {
      "cell_type": "code",
      "execution_count": 1,
      "metadata": {
        "id": "WQsktpIiN2UV",
        "outputId": "606dc258-995a-48f1-cc94-65af32b2240c",
        "colab": {
          "base_uri": "https://localhost:8080/"
        }
      },
      "outputs": [
        {
          "output_type": "stream",
          "name": "stdout",
          "text": [
            "Downloading data from https://storage.googleapis.com/tensorflow/tf-keras-datasets/mnist.npz\n",
            "11490434/11490434 [==============================] - 0s 0us/step\n"
          ]
        }
      ],
      "source": [
        "from keras.datasets import mnist\n",
        "(train_images, train_labels),(test_images, test_labels) = mnist.load_data()\n",
        "train_images = train_images.reshape((60000,28*28))\n",
        "train_images = train_images.astype(\"float32\")/255\n",
        "test_images = test_images.reshape((10000,28*28))\n",
        "test_images = test_images.astype(\"float32\")/255\n",
        "from keras.utils import to_categorical\n",
        "train_labels = to_categorical(train_labels)\n",
        "test_labels = to_categorical(test_labels)"
      ]
    },
    {
      "cell_type": "markdown",
      "source": [
        " **Creation of Model** "
      ],
      "metadata": {
        "id": "r4Q-E4LXPklo"
      }
    },
    {
      "cell_type": "code",
      "execution_count": 2,
      "metadata": {
        "id": "F3qPmenwN2Uh"
      },
      "outputs": [],
      "source": [
        "from keras import models\n",
        "from keras import layers\n",
        "model = models.Sequential()\n",
        "model.add(layers.Dense(512, activation = \"relu\", input_shape = (28*28, )))\n",
        "model.add(layers.Dense(10, activation = \"softmax\"))\n",
        "model.compile(optimizer= \"rmsprop\",\n",
        "             loss = \"categorical_crossentropy\",\n",
        "             metrics = [\"accuracy\"])"
      ]
    },
    {
      "cell_type": "markdown",
      "source": [
        " **Training of Model** "
      ],
      "metadata": {
        "id": "hB9ZKxU0QQX1"
      }
    },
    {
      "cell_type": "code",
      "execution_count": 3,
      "metadata": {
        "colab": {
          "base_uri": "https://localhost:8080/"
        },
        "id": "OJXKK1nHN2Uj",
        "outputId": "07bdf231-2bd5-4c76-fa7d-1cc435ce5260"
      },
      "outputs": [
        {
          "output_type": "stream",
          "name": "stdout",
          "text": [
            "Epoch 1/5\n",
            "469/469 [==============================] - 6s 11ms/step - loss: 0.2658 - accuracy: 0.9243\n",
            "Epoch 2/5\n",
            "469/469 [==============================] - 5s 10ms/step - loss: 0.1082 - accuracy: 0.9682\n",
            "Epoch 3/5\n",
            "469/469 [==============================] - 6s 13ms/step - loss: 0.0720 - accuracy: 0.9789\n",
            "Epoch 4/5\n",
            "469/469 [==============================] - 5s 10ms/step - loss: 0.0517 - accuracy: 0.9844\n",
            "Epoch 5/5\n",
            "469/469 [==============================] - 5s 11ms/step - loss: 0.0386 - accuracy: 0.9884\n"
          ]
        },
        {
          "output_type": "execute_result",
          "data": {
            "text/plain": [
              "<keras.callbacks.History at 0x7f4107e158b0>"
            ]
          },
          "metadata": {},
          "execution_count": 3
        }
      ],
      "source": [
        "model.fit(train_images,\n",
        "         train_labels,\n",
        "         epochs = 5,\n",
        "         batch_size = 128)"
      ]
    },
    {
      "cell_type": "markdown",
      "source": [
        " **Testing of Model** "
      ],
      "metadata": {
        "id": "-AVraw3ZQboG"
      }
    },
    {
      "cell_type": "code",
      "execution_count": 4,
      "metadata": {
        "colab": {
          "base_uri": "https://localhost:8080/"
        },
        "id": "rNaOrUn4N2Uj",
        "outputId": "289554a7-cbc7-4f78-ba72-77d79267d2fe"
      },
      "outputs": [
        {
          "output_type": "stream",
          "name": "stdout",
          "text": [
            "313/313 [==============================] - 1s 4ms/step - loss: 0.0668 - accuracy: 0.9800\n",
            "test_loss :  0.06684042513370514 \n",
            "test_acc :  0.9800000190734863\n"
          ]
        }
      ],
      "source": [
        "test_loss, test_acc = model.evaluate(test_images, test_labels)\n",
        "print(\"test_loss : \", test_loss,\"\\ntest_acc : \", test_acc)"
      ]
    }
  ],
  "metadata": {
    "kernelspec": {
      "display_name": "tfgpu",
      "language": "python",
      "name": "tfgpu"
    },
    "language_info": {
      "codemirror_mode": {
        "name": "ipython",
        "version": 3
      },
      "file_extension": ".py",
      "mimetype": "text/x-python",
      "name": "python",
      "nbconvert_exporter": "python",
      "pygments_lexer": "ipython3",
      "version": "3.6.11"
    },
    "colab": {
      "provenance": [],
      "include_colab_link": true
    }
  },
  "nbformat": 4,
  "nbformat_minor": 0
}